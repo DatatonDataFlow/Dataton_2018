{
 "cells": [
  {
   "cell_type": "markdown",
   "metadata": {},
   "source": [
    "### importar librerias"
   ]
  },
  {
   "cell_type": "code",
   "execution_count": 2,
   "metadata": {},
   "outputs": [],
   "source": [
    "import numpy as np\n",
    "import pandas as pd\n",
    "import matplotlib.pyplot as plt\n",
    "from sklearn.ensemble import IsolationForest\n",
    "import gc"
   ]
  },
  {
   "cell_type": "markdown",
   "metadata": {},
   "source": [
    "### Leer datasets"
   ]
  },
  {
   "cell_type": "markdown",
   "metadata": {},
   "source": [
    "Dataset con datos etiquetados"
   ]
  },
  {
   "cell_type": "code",
   "execution_count": 3,
   "metadata": {},
   "outputs": [],
   "source": [
    "df = pd.read_csv(\"Dataset_etiquetado.csv\")"
   ]
  },
  {
   "cell_type": "code",
   "execution_count": 4,
   "metadata": {},
   "outputs": [
    {
     "data": {
      "text/html": [
       "<div>\n",
       "<style scoped>\n",
       "    .dataframe tbody tr th:only-of-type {\n",
       "        vertical-align: middle;\n",
       "    }\n",
       "\n",
       "    .dataframe tbody tr th {\n",
       "        vertical-align: top;\n",
       "    }\n",
       "\n",
       "    .dataframe thead th {\n",
       "        text-align: right;\n",
       "    }\n",
       "</style>\n",
       "<table border=\"1\" class=\"dataframe\">\n",
       "  <thead>\n",
       "    <tr style=\"text-align: right;\">\n",
       "      <th></th>\n",
       "      <th>id_trn_ach</th>\n",
       "      <th>id_cliente</th>\n",
       "      <th>fecha</th>\n",
       "      <th>hora</th>\n",
       "      <th>valor_trx</th>\n",
       "      <th>etiqueta</th>\n",
       "    </tr>\n",
       "  </thead>\n",
       "  <tbody>\n",
       "    <tr>\n",
       "      <th>0</th>\n",
       "      <td>241307506</td>\n",
       "      <td>19</td>\n",
       "      <td>20170210.0</td>\n",
       "      <td>142809</td>\n",
       "      <td>701067.98</td>\n",
       "      <td>1</td>\n",
       "    </tr>\n",
       "    <tr>\n",
       "      <th>1</th>\n",
       "      <td>359125394</td>\n",
       "      <td>35</td>\n",
       "      <td>20180808.0</td>\n",
       "      <td>122953</td>\n",
       "      <td>246964.14</td>\n",
       "      <td>1</td>\n",
       "    </tr>\n",
       "    <tr>\n",
       "      <th>2</th>\n",
       "      <td>285847659</td>\n",
       "      <td>40</td>\n",
       "      <td>20171003.0</td>\n",
       "      <td>151703</td>\n",
       "      <td>192491.73</td>\n",
       "      <td>1</td>\n",
       "    </tr>\n",
       "    <tr>\n",
       "      <th>3</th>\n",
       "      <td>319249942</td>\n",
       "      <td>45</td>\n",
       "      <td>20180305.0</td>\n",
       "      <td>111143</td>\n",
       "      <td>49520.98</td>\n",
       "      <td>1</td>\n",
       "    </tr>\n",
       "    <tr>\n",
       "      <th>4</th>\n",
       "      <td>335337578</td>\n",
       "      <td>45</td>\n",
       "      <td>20180507.0</td>\n",
       "      <td>145248</td>\n",
       "      <td>431146.54</td>\n",
       "      <td>1</td>\n",
       "    </tr>\n",
       "  </tbody>\n",
       "</table>\n",
       "</div>"
      ],
      "text/plain": [
       "   id_trn_ach  id_cliente       fecha    hora  valor_trx  etiqueta\n",
       "0   241307506          19  20170210.0  142809  701067.98         1\n",
       "1   359125394          35  20180808.0  122953  246964.14         1\n",
       "2   285847659          40  20171003.0  151703  192491.73         1\n",
       "3   319249942          45  20180305.0  111143   49520.98         1\n",
       "4   335337578          45  20180507.0  145248  431146.54         1"
      ]
     },
     "execution_count": 4,
     "metadata": {},
     "output_type": "execute_result"
    }
   ],
   "source": [
    "df.head()"
   ]
  },
  {
   "cell_type": "markdown",
   "metadata": {},
   "source": [
    "Dataset dt_info_pagadores_muestra"
   ]
  },
  {
   "cell_type": "code",
   "execution_count": 5,
   "metadata": {},
   "outputs": [
    {
     "name": "stdout",
     "output_type": "stream",
     "text": [
      "(338606, 9)\n"
     ]
    }
   ],
   "source": [
    "pagadores=pd.read_csv('dt_info_pagadores_muestra.csv', error_bad_lines=False,warn_bad_lines=False, header= None)\n",
    "pagadores=pagadores.rename(columns={0:\"id_cliente\",1:\"seg_str\",2:\"ocupacion\",\n",
    "                  3:\"tipo_vivienda\",4:\"nivel_academico\",5:\"estado_civil\",6:\"genero\",\n",
    "                  7:\"edad\",8:\"ingreso_rango\",})\n",
    "print (pagadores.shape)"
   ]
  },
  {
   "cell_type": "code",
   "execution_count": 6,
   "metadata": {},
   "outputs": [
    {
     "data": {
      "text/html": [
       "<div>\n",
       "<style scoped>\n",
       "    .dataframe tbody tr th:only-of-type {\n",
       "        vertical-align: middle;\n",
       "    }\n",
       "\n",
       "    .dataframe tbody tr th {\n",
       "        vertical-align: top;\n",
       "    }\n",
       "\n",
       "    .dataframe thead th {\n",
       "        text-align: right;\n",
       "    }\n",
       "</style>\n",
       "<table border=\"1\" class=\"dataframe\">\n",
       "  <thead>\n",
       "    <tr style=\"text-align: right;\">\n",
       "      <th></th>\n",
       "      <th>name</th>\n",
       "      <th>type</th>\n",
       "      <th>comment</th>\n",
       "    </tr>\n",
       "  </thead>\n",
       "  <tbody>\n",
       "    <tr>\n",
       "      <th>0</th>\n",
       "      <td>id_cliente</td>\n",
       "      <td>bigint</td>\n",
       "      <td>NaN</td>\n",
       "    </tr>\n",
       "    <tr>\n",
       "      <th>1</th>\n",
       "      <td>seg_str</td>\n",
       "      <td>string</td>\n",
       "      <td>NaN</td>\n",
       "    </tr>\n",
       "    <tr>\n",
       "      <th>2</th>\n",
       "      <td>ocupacion</td>\n",
       "      <td>string</td>\n",
       "      <td>NaN</td>\n",
       "    </tr>\n",
       "    <tr>\n",
       "      <th>3</th>\n",
       "      <td>tipo_vivienda</td>\n",
       "      <td>string</td>\n",
       "      <td>NaN</td>\n",
       "    </tr>\n",
       "    <tr>\n",
       "      <th>4</th>\n",
       "      <td>nivel_academico</td>\n",
       "      <td>string</td>\n",
       "      <td>NaN</td>\n",
       "    </tr>\n",
       "    <tr>\n",
       "      <th>5</th>\n",
       "      <td>estado_civil</td>\n",
       "      <td>string</td>\n",
       "      <td>NaN</td>\n",
       "    </tr>\n",
       "    <tr>\n",
       "      <th>6</th>\n",
       "      <td>genero</td>\n",
       "      <td>string</td>\n",
       "      <td>NaN</td>\n",
       "    </tr>\n",
       "    <tr>\n",
       "      <th>7</th>\n",
       "      <td>edad</td>\n",
       "      <td>int</td>\n",
       "      <td>NaN</td>\n",
       "    </tr>\n",
       "    <tr>\n",
       "      <th>8</th>\n",
       "      <td>ingreso_rango</td>\n",
       "      <td>string</td>\n",
       "      <td>NaN</td>\n",
       "    </tr>\n",
       "  </tbody>\n",
       "</table>\n",
       "</div>"
      ],
      "text/plain": [
       "              name    type  comment\n",
       "0       id_cliente  bigint      NaN\n",
       "1          seg_str  string      NaN\n",
       "2        ocupacion  string      NaN\n",
       "3    tipo_vivienda  string      NaN\n",
       "4  nivel_academico  string      NaN\n",
       "5     estado_civil  string      NaN\n",
       "6           genero  string      NaN\n",
       "7             edad     int      NaN\n",
       "8    ingreso_rango  string      NaN"
      ]
     },
     "execution_count": 6,
     "metadata": {},
     "output_type": "execute_result"
    }
   ],
   "source": [
    "meta_data=pd.read_excel('Metadatos_Tabla.xlsx')\n",
    "meta_data"
   ]
  },
  {
   "cell_type": "markdown",
   "metadata": {},
   "source": [
    "### Filtrado de Datos\n",
    "\n",
    "Se eliminan los registros  de clientes sin información en la edad, y se remplazan valores que no están proporcionados en el diccionario suministrado por BC"
   ]
  },
  {
   "cell_type": "code",
   "execution_count": 8,
   "metadata": {},
   "outputs": [],
   "source": [
    "pagadores= pagadores[pagadores.edad != '\\\\N']\n",
    "pagadores.edad= pagadores['edad'].astype(int)\n",
    "pagadores.ocupacion= pagadores.ocupacion.replace('0',\"O\")\n",
    "pagadores.tipo_vivienda=pagadores.tipo_vivienda.replace([\"1\",\"2\",\"3\",\"4\"],np.nan)#se remplaza descripciones no dadas en la guia\n",
    "pagadores.ingreso_rango=pagadores.ingreso_rango.replace(['No disponible',\"0\"],np.nan)#se remplaza descripciones no dadas en la guia\n",
    "\n"
   ]
  },
  {
   "cell_type": "markdown",
   "metadata": {},
   "source": [
    "### Analisis outlayers edades\n",
    "\n",
    "Se eliminan las edades atípicas o datos erróneos como negativos o extremos, según un análisis de outliers determinado por Isolation Forest   "
   ]
  },
  {
   "cell_type": "code",
   "execution_count": 9,
   "metadata": {},
   "outputs": [
    {
     "name": "stderr",
     "output_type": "stream",
     "text": [
      "C:\\Users\\lssro\\Anaconda3\\lib\\site-packages\\sklearn\\ensemble\\iforest.py:224: FutureWarning: behaviour=\"old\" is deprecated and will be removed in version 0.22. Please use behaviour=\"new\", which makes the decision_function change to match other anomaly detection algorithm API.\n",
      "  FutureWarning)\n",
      "C:\\Users\\lssro\\Anaconda3\\lib\\site-packages\\sklearn\\ensemble\\iforest.py:418: DeprecationWarning: threshold_ attribute is deprecated in 0.20 and will be removed in 0.22.\n",
      "  \" be removed in 0.22.\", DeprecationWarning)\n"
     ]
    }
   ],
   "source": [
    "isolation_forest = IsolationForest(n_estimators=100,contamination =0.01)\n",
    "isolation_forest.fit(pagadores.edad.values.reshape(-1, 1))\n",
    "x = np.linspace(-5, 100, 1000).reshape(-1,1)\n",
    "anomaly_score = isolation_forest.decision_function(x)\n",
    "outlier = isolation_forest.predict(x)\n"
   ]
  },
  {
   "cell_type": "code",
   "execution_count": 10,
   "metadata": {},
   "outputs": [
    {
     "data": {
      "image/png": "[encoded data removed]",
      "text/plain": [
       "<Figure size 432x288 with 1 Axes>"
      ]
     },
     "metadata": {
      "needs_background": "light"
     },
     "output_type": "display_data"
    }
   ],
   "source": [
    "plt.plot(x, anomaly_score, label='anomaly score')\n",
    "plt.fill_between(x.T[0], np.min(anomaly_score), np.max(anomaly_score), \n",
    "                 where=outlier==-1, color='r', \n",
    "                 alpha=.4, label='outlier region')\n",
    "plt.legend()\n",
    "plt.ylabel('anomaly score')\n",
    "plt.xlabel('x')\n",
    "plt.xlim([-10, 100])\n",
    "plt.show()"
   ]
  },
  {
   "cell_type": "code",
   "execution_count": 11,
   "metadata": {},
   "outputs": [
    {
     "data": {
      "text/plain": [
       "array([1.51651652])"
      ]
     },
     "execution_count": 11,
     "metadata": {},
     "output_type": "execute_result"
    }
   ],
   "source": [
    "min(x[outlier==1])"
   ]
  },
  {
   "cell_type": "code",
   "execution_count": 12,
   "metadata": {},
   "outputs": [
    {
     "data": {
      "text/plain": [
       "array([79.08408408])"
      ]
     },
     "execution_count": 12,
     "metadata": {},
     "output_type": "execute_result"
    }
   ],
   "source": [
    "max(x[outlier==1])"
   ]
  },
  {
   "cell_type": "code",
   "execution_count": 13,
   "metadata": {},
   "outputs": [],
   "source": [
    "pagadores= pagadores[(pagadores.edad >= 10)&(pagadores.edad <= 8)]"
   ]
  },
  {
   "cell_type": "markdown",
   "metadata": {},
   "source": [
    "Muestras resultado eliminacion de edades poco frecuentes"
   ]
  },
  {
   "cell_type": "code",
   "execution_count": 14,
   "metadata": {},
   "outputs": [
    {
     "data": {
      "text/html": [
       "<div>\n",
       "<style scoped>\n",
       "    .dataframe tbody tr th:only-of-type {\n",
       "        vertical-align: middle;\n",
       "    }\n",
       "\n",
       "    .dataframe tbody tr th {\n",
       "        vertical-align: top;\n",
       "    }\n",
       "\n",
       "    .dataframe thead th {\n",
       "        text-align: right;\n",
       "    }\n",
       "</style>\n",
       "<table border=\"1\" class=\"dataframe\">\n",
       "  <thead>\n",
       "    <tr style=\"text-align: right;\">\n",
       "      <th></th>\n",
       "      <th>id_cliente</th>\n",
       "      <th>seg_str</th>\n",
       "      <th>ocupacion</th>\n",
       "      <th>tipo_vivienda</th>\n",
       "      <th>nivel_academico</th>\n",
       "      <th>estado_civil</th>\n",
       "      <th>genero</th>\n",
       "      <th>edad</th>\n",
       "      <th>ingreso_rango</th>\n",
       "    </tr>\n",
       "  </thead>\n",
       "  <tbody>\n",
       "    <tr>\n",
       "      <th>1</th>\n",
       "      <td>32</td>\n",
       "      <td>PERSONAL PLUS</td>\n",
       "      <td>E</td>\n",
       "      <td>F</td>\n",
       "      <td>T</td>\n",
       "      <td>M</td>\n",
       "      <td>M</td>\n",
       "      <td>80</td>\n",
       "      <td>i. (8.7  Inf)</td>\n",
       "    </tr>\n",
       "    <tr>\n",
       "      <th>4</th>\n",
       "      <td>71</td>\n",
       "      <td>PERSONAL</td>\n",
       "      <td>5</td>\n",
       "      <td>O</td>\n",
       "      <td>S</td>\n",
       "      <td>M</td>\n",
       "      <td>M</td>\n",
       "      <td>79</td>\n",
       "      <td>e. (4.4  5.5MM]</td>\n",
       "    </tr>\n",
       "    <tr>\n",
       "      <th>5</th>\n",
       "      <td>72</td>\n",
       "      <td>PERSONAL</td>\n",
       "      <td>1</td>\n",
       "      <td>O</td>\n",
       "      <td>U</td>\n",
       "      <td>M</td>\n",
       "      <td>M</td>\n",
       "      <td>74</td>\n",
       "      <td>b. (1.1  2.2MM]</td>\n",
       "    </tr>\n",
       "    <tr>\n",
       "      <th>7</th>\n",
       "      <td>108</td>\n",
       "      <td>PERSONAL PLUS</td>\n",
       "      <td>1</td>\n",
       "      <td>O</td>\n",
       "      <td>U</td>\n",
       "      <td>M</td>\n",
       "      <td>F</td>\n",
       "      <td>37</td>\n",
       "      <td>f. (5.5  6.6MM]</td>\n",
       "    </tr>\n",
       "    <tr>\n",
       "      <th>8</th>\n",
       "      <td>210</td>\n",
       "      <td>EMPRENDEDOR</td>\n",
       "      <td>3</td>\n",
       "      <td>NaN</td>\n",
       "      <td>U</td>\n",
       "      <td>M</td>\n",
       "      <td>M</td>\n",
       "      <td>34</td>\n",
       "      <td>i. (8.7  Inf)</td>\n",
       "    </tr>\n",
       "  </tbody>\n",
       "</table>\n",
       "</div>"
      ],
      "text/plain": [
       "   id_cliente        seg_str ocupacion tipo_vivienda nivel_academico  \\\n",
       "1          32  PERSONAL PLUS         E             F               T   \n",
       "4          71       PERSONAL         5             O               S   \n",
       "5          72       PERSONAL         1             O               U   \n",
       "7         108  PERSONAL PLUS         1             O               U   \n",
       "8         210    EMPRENDEDOR         3           NaN               U   \n",
       "\n",
       "  estado_civil genero  edad    ingreso_rango  \n",
       "1            M      M    80    i. (8.7  Inf)  \n",
       "4            M      M    79  e. (4.4  5.5MM]  \n",
       "5            M      M    74  b. (1.1  2.2MM]  \n",
       "7            M      F    37  f. (5.5  6.6MM]  \n",
       "8            M      M    34    i. (8.7  Inf)  "
      ]
     },
     "execution_count": 14,
     "metadata": {},
     "output_type": "execute_result"
    }
   ],
   "source": [
    "pagadores.head()"
   ]
  },
  {
   "cell_type": "markdown",
   "metadata": {},
   "source": [
    "### Verificacion categorias por columna"
   ]
  },
  {
   "cell_type": "markdown",
   "metadata": {},
   "source": [
    "En tipo de vivienda, en ningun registro se encuentra la categoria A y P ademas se encuentran catergorias adicionales como 1,2,3 y 4  que no estan en el diccionario de datos suministrado por BC, tambien se encuentran valores nan que se tomaran como valores no disponibles\n"
   ]
  },
  {
   "cell_type": "code",
   "execution_count": 16,
   "metadata": {},
   "outputs": [
    {
     "data": {
      "text/plain": [
       "{'i. (8.7  Inf)': 1.0,\n",
       " 'e. (4.4  5.5MM]': 2.0,\n",
       " 'b. (1.1  2.2MM]': 3.0,\n",
       " 'f. (5.5  6.6MM]': 4.0,\n",
       " 'h. (7.6  8.7MM]': 5.0,\n",
       " 'g. (6.6  7.6MM]': 6.0,\n",
       " 'c. (2.2  3.3MM]': 7.0,\n",
       " 'd. (3.3  4.4MM]': 8.0,\n",
       " 'a. (0  1.1MM]': 9.0,\n",
       " nan: 10.0}"
      ]
     },
     "execution_count": 16,
     "metadata": {},
     "output_type": "execute_result"
    }
   ],
   "source": [
    "columna=pagadores.ingreso_rango\n",
    "dic_ocupacion = dict(zip(columna.unique(),np.linspace(1,len(columna.unique()),len(columna.unique()))))\n",
    "dic_ocupacion"
   ]
  },
  {
   "cell_type": "markdown",
   "metadata": {},
   "source": [
    "### One hot encoding  dataset pagadores\n",
    "\n",
    "se realiza un one hot encoding de las clases categóricas del dataset pagadores"
   ]
  },
  {
   "cell_type": "code",
   "execution_count": 17,
   "metadata": {},
   "outputs": [],
   "source": [
    "pagadores=pd.get_dummies(pagadores, columns=[\"seg_str\",'ocupacion',\"genero\",\"edad\",\"ingreso_rango\",\"tipo_vivienda\",\"estado_civil\",\"nivel_academico\"])"
   ]
  },
  {
   "cell_type": "markdown",
   "metadata": {},
   "source": [
    "### Consolidacion dataset pagadores y transacciones"
   ]
  },
  {
   "cell_type": "code",
   "execution_count": 18,
   "metadata": {},
   "outputs": [],
   "source": [
    "Consolidado=pagadores.join(df.set_index('id_cliente'), on='id_cliente')"
   ]
  },
  {
   "cell_type": "markdown",
   "metadata": {},
   "source": [
    "Eliminación de columnas que ya no son necesarias, y limpieza de registros que no estaban en ambas tablas"
   ]
  },
  {
   "cell_type": "code",
   "execution_count": 19,
   "metadata": {},
   "outputs": [],
   "source": [
    "del Consolidado[\"id_cliente\"]\n",
    "del Consolidado[\"id_trn_ach\"]\n",
    "\n",
    "\n",
    "Consolidado=Consolidado[Consolidado.etiqueta.notna()]\n",
    "Consolidado=Consolidado.reset_index(drop=True)"
   ]
  },
  {
   "cell_type": "markdown",
   "metadata": {},
   "source": [
    "muestra"
   ]
  },
  {
   "cell_type": "code",
   "execution_count": 20,
   "metadata": {},
   "outputs": [
    {
     "data": {
      "text/html": [
       "<div>\n",
       "<style scoped>\n",
       "    .dataframe tbody tr th:only-of-type {\n",
       "        vertical-align: middle;\n",
       "    }\n",
       "\n",
       "    .dataframe tbody tr th {\n",
       "        vertical-align: top;\n",
       "    }\n",
       "\n",
       "    .dataframe thead th {\n",
       "        text-align: right;\n",
       "    }\n",
       "</style>\n",
       "<table border=\"1\" class=\"dataframe\">\n",
       "  <thead>\n",
       "    <tr style=\"text-align: right;\">\n",
       "      <th></th>\n",
       "      <th>seg_str_EMPRENDEDOR</th>\n",
       "      <th>seg_str_OTRO</th>\n",
       "      <th>seg_str_PERSONAL</th>\n",
       "      <th>seg_str_PERSONAL PLUS</th>\n",
       "      <th>seg_str_PREFERENCIAL</th>\n",
       "      <th>ocupacion_1</th>\n",
       "      <th>ocupacion_2</th>\n",
       "      <th>ocupacion_3</th>\n",
       "      <th>ocupacion_4</th>\n",
       "      <th>ocupacion_5</th>\n",
       "      <th>...</th>\n",
       "      <th>nivel_academico_I</th>\n",
       "      <th>nivel_academico_N</th>\n",
       "      <th>nivel_academico_P</th>\n",
       "      <th>nivel_academico_S</th>\n",
       "      <th>nivel_academico_T</th>\n",
       "      <th>nivel_academico_U</th>\n",
       "      <th>fecha</th>\n",
       "      <th>hora</th>\n",
       "      <th>valor_trx</th>\n",
       "      <th>etiqueta</th>\n",
       "    </tr>\n",
       "  </thead>\n",
       "  <tbody>\n",
       "    <tr>\n",
       "      <th>0</th>\n",
       "      <td>0</td>\n",
       "      <td>0</td>\n",
       "      <td>0</td>\n",
       "      <td>1</td>\n",
       "      <td>0</td>\n",
       "      <td>0</td>\n",
       "      <td>0</td>\n",
       "      <td>0</td>\n",
       "      <td>0</td>\n",
       "      <td>0</td>\n",
       "      <td>...</td>\n",
       "      <td>0</td>\n",
       "      <td>0</td>\n",
       "      <td>0</td>\n",
       "      <td>0</td>\n",
       "      <td>1</td>\n",
       "      <td>0</td>\n",
       "      <td>20171009.0</td>\n",
       "      <td>90609.0</td>\n",
       "      <td>15100.91</td>\n",
       "      <td>1.0</td>\n",
       "    </tr>\n",
       "    <tr>\n",
       "      <th>1</th>\n",
       "      <td>0</td>\n",
       "      <td>0</td>\n",
       "      <td>1</td>\n",
       "      <td>0</td>\n",
       "      <td>0</td>\n",
       "      <td>0</td>\n",
       "      <td>0</td>\n",
       "      <td>0</td>\n",
       "      <td>0</td>\n",
       "      <td>1</td>\n",
       "      <td>...</td>\n",
       "      <td>0</td>\n",
       "      <td>0</td>\n",
       "      <td>0</td>\n",
       "      <td>1</td>\n",
       "      <td>0</td>\n",
       "      <td>0</td>\n",
       "      <td>20171013.0</td>\n",
       "      <td>101444.0</td>\n",
       "      <td>157299.02</td>\n",
       "      <td>2.0</td>\n",
       "    </tr>\n",
       "    <tr>\n",
       "      <th>2</th>\n",
       "      <td>0</td>\n",
       "      <td>0</td>\n",
       "      <td>1</td>\n",
       "      <td>0</td>\n",
       "      <td>0</td>\n",
       "      <td>0</td>\n",
       "      <td>0</td>\n",
       "      <td>0</td>\n",
       "      <td>0</td>\n",
       "      <td>1</td>\n",
       "      <td>...</td>\n",
       "      <td>0</td>\n",
       "      <td>0</td>\n",
       "      <td>0</td>\n",
       "      <td>1</td>\n",
       "      <td>0</td>\n",
       "      <td>0</td>\n",
       "      <td>20170825.0</td>\n",
       "      <td>175028.0</td>\n",
       "      <td>371718.55</td>\n",
       "      <td>2.0</td>\n",
       "    </tr>\n",
       "    <tr>\n",
       "      <th>3</th>\n",
       "      <td>0</td>\n",
       "      <td>0</td>\n",
       "      <td>1</td>\n",
       "      <td>0</td>\n",
       "      <td>0</td>\n",
       "      <td>0</td>\n",
       "      <td>0</td>\n",
       "      <td>0</td>\n",
       "      <td>0</td>\n",
       "      <td>1</td>\n",
       "      <td>...</td>\n",
       "      <td>0</td>\n",
       "      <td>0</td>\n",
       "      <td>0</td>\n",
       "      <td>1</td>\n",
       "      <td>0</td>\n",
       "      <td>0</td>\n",
       "      <td>20180124.0</td>\n",
       "      <td>104113.0</td>\n",
       "      <td>382742.66</td>\n",
       "      <td>2.0</td>\n",
       "    </tr>\n",
       "    <tr>\n",
       "      <th>4</th>\n",
       "      <td>0</td>\n",
       "      <td>0</td>\n",
       "      <td>1</td>\n",
       "      <td>0</td>\n",
       "      <td>0</td>\n",
       "      <td>0</td>\n",
       "      <td>0</td>\n",
       "      <td>0</td>\n",
       "      <td>0</td>\n",
       "      <td>1</td>\n",
       "      <td>...</td>\n",
       "      <td>0</td>\n",
       "      <td>0</td>\n",
       "      <td>0</td>\n",
       "      <td>1</td>\n",
       "      <td>0</td>\n",
       "      <td>0</td>\n",
       "      <td>20180325.0</td>\n",
       "      <td>153255.0</td>\n",
       "      <td>125253.38</td>\n",
       "      <td>2.0</td>\n",
       "    </tr>\n",
       "  </tbody>\n",
       "</table>\n",
       "<p>5 rows × 127 columns</p>\n",
       "</div>"
      ],
      "text/plain": [
       "   seg_str_EMPRENDEDOR  seg_str_OTRO  seg_str_PERSONAL  seg_str_PERSONAL PLUS  \\\n",
       "0                    0             0                 0                      1   \n",
       "1                    0             0                 1                      0   \n",
       "2                    0             0                 1                      0   \n",
       "3                    0             0                 1                      0   \n",
       "4                    0             0                 1                      0   \n",
       "\n",
       "   seg_str_PREFERENCIAL  ocupacion_1  ocupacion_2  ocupacion_3  ocupacion_4  \\\n",
       "0                     0            0            0            0            0   \n",
       "1                     0            0            0            0            0   \n",
       "2                     0            0            0            0            0   \n",
       "3                     0            0            0            0            0   \n",
       "4                     0            0            0            0            0   \n",
       "\n",
       "   ocupacion_5    ...     nivel_academico_I  nivel_academico_N  \\\n",
       "0            0    ...                     0                  0   \n",
       "1            1    ...                     0                  0   \n",
       "2            1    ...                     0                  0   \n",
       "3            1    ...                     0                  0   \n",
       "4            1    ...                     0                  0   \n",
       "\n",
       "   nivel_academico_P  nivel_academico_S  nivel_academico_T  nivel_academico_U  \\\n",
       "0                  0                  0                  1                  0   \n",
       "1                  0                  1                  0                  0   \n",
       "2                  0                  1                  0                  0   \n",
       "3                  0                  1                  0                  0   \n",
       "4                  0                  1                  0                  0   \n",
       "\n",
       "        fecha      hora  valor_trx  etiqueta  \n",
       "0  20171009.0   90609.0   15100.91       1.0  \n",
       "1  20171013.0  101444.0  157299.02       2.0  \n",
       "2  20170825.0  175028.0  371718.55       2.0  \n",
       "3  20180124.0  104113.0  382742.66       2.0  \n",
       "4  20180325.0  153255.0  125253.38       2.0  \n",
       "\n",
       "[5 rows x 127 columns]"
      ]
     },
     "execution_count": 20,
     "metadata": {},
     "output_type": "execute_result"
    }
   ],
   "source": [
    "Consolidado.head()"
   ]
  },
  {
   "cell_type": "markdown",
   "metadata": {},
   "source": [
    "### Analisis outlayers valor transacciones\n",
    "\n",
    "Inicialmente se eliminan las transacciones que son menores o iguales a 0 pesos.\n",
    "\n",
    "Se eliminan las transacciones poco, anormales o poco frecuentes en cuanto a valor de transaccion"
   ]
  },
  {
   "cell_type": "code",
   "execution_count": 21,
   "metadata": {},
   "outputs": [],
   "source": [
    "Consolidado=Consolidado[Consolidado.valor_trx>0]#                      <=99000000]"
   ]
  },
  {
   "cell_type": "code",
   "execution_count": 22,
   "metadata": {},
   "outputs": [
    {
     "name": "stderr",
     "output_type": "stream",
     "text": [
      "C:\\Users\\lssro\\Anaconda3\\lib\\site-packages\\sklearn\\ensemble\\iforest.py:224: FutureWarning: behaviour=\"old\" is deprecated and will be removed in version 0.22. Please use behaviour=\"new\", which makes the decision_function change to match other anomaly detection algorithm API.\n",
      "  FutureWarning)\n",
      "C:\\Users\\lssro\\Anaconda3\\lib\\site-packages\\sklearn\\ensemble\\iforest.py:418: DeprecationWarning: threshold_ attribute is deprecated in 0.20 and will be removed in 0.22.\n",
      "  \" be removed in 0.22.\", DeprecationWarning)\n"
     ]
    }
   ],
   "source": [
    "isolation_forest = IsolationForest(n_estimators=100,contamination =0.01)\n",
    "isolation_forest.fit(Consolidado.valor_trx.values.reshape(-1, 1))\n",
    "x = np.linspace(-100, 100000000, 10000).reshape(-1,1)\n",
    "anomaly_score = isolation_forest.decision_function(x)\n",
    "outlier = isolation_forest.predict(x)"
   ]
  },
  {
   "cell_type": "code",
   "execution_count": 23,
   "metadata": {},
   "outputs": [
    {
     "data": {
      "image/png": "[encoded data removed]",
      "text/plain": [
       "<Figure size 432x288 with 1 Axes>"
      ]
     },
     "metadata": {
      "needs_background": "light"
     },
     "output_type": "display_data"
    }
   ],
   "source": [
    "plt.plot(x, anomaly_score, label='anomaly score')\n",
    "plt.fill_between(x.T[0], np.min(anomaly_score), np.max(anomaly_score), \n",
    "                 where=outlier==-1, color='r', \n",
    "                 alpha=.4, label='outlier region')\n",
    "plt.legend()\n",
    "plt.ylabel('anomaly score')\n",
    "plt.xlabel('x')\n",
    "plt.xlim([-5000, 9999999])\n",
    "plt.show()"
   ]
  },
  {
   "cell_type": "code",
   "execution_count": 24,
   "metadata": {},
   "outputs": [
    {
     "data": {
      "text/plain": [
       "array([2510153.53535354])"
      ]
     },
     "execution_count": 24,
     "metadata": {},
     "output_type": "execute_result"
    }
   ],
   "source": [
    "max(x[outlier==1])"
   ]
  },
  {
   "cell_type": "markdown",
   "metadata": {},
   "source": [
    "se eliminaran 1738 de transacciones, estas se definen como transacciones atipicas menos del 0.01%"
   ]
  },
  {
   "cell_type": "code",
   "execution_count": 25,
   "metadata": {},
   "outputs": [],
   "source": [
    "Consolidado=Consolidado[Consolidado.valor_trx<=10000000]"
   ]
  },
  {
   "cell_type": "code",
   "execution_count": 26,
   "metadata": {},
   "outputs": [
    {
     "data": {
      "text/plain": [
       "(3197091, 127)"
      ]
     },
     "execution_count": 26,
     "metadata": {},
     "output_type": "execute_result"
    }
   ],
   "source": [
    "Consolidado.shape"
   ]
  },
  {
   "cell_type": "markdown",
   "metadata": {},
   "source": [
    "Guardado del dataset"
   ]
  },
  {
   "cell_type": "code",
   "execution_count": 27,
   "metadata": {},
   "outputs": [],
   "source": [
    "Consolidado.to_csv(\"Dataset_consolidado.csv\",index=False)"
   ]
  }
 ],
 "metadata": {
  "kernelspec": {
   "display_name": "Python 3",
   "language": "python",
   "name": "python3"
  },
  "language_info": {
   "codemirror_mode": {
    "name": "ipython",
    "version": 3
   },
   "file_extension": ".py",
   "mimetype": "text/x-python",
   "name": "python",
   "nbconvert_exporter": "python",
   "pygments_lexer": "ipython3",
   "version": "3.7.0"
  }
 },
 "nbformat": 4,
 "nbformat_minor": 2
}
