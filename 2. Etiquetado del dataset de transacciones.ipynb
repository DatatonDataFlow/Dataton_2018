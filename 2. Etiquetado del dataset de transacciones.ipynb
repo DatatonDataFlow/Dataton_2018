{
 "cells": [
  {
   "cell_type": "markdown",
   "metadata": {},
   "source": [
    "### Importación de librerías"
   ]
  },
  {
   "cell_type": "code",
   "execution_count": 1,
   "metadata": {},
   "outputs": [],
   "source": [
    "import numpy as np\n",
    "import pandas as pd"
   ]
  },
  {
   "cell_type": "markdown",
   "metadata": {},
   "source": [
    "### Lectura del dataset de transacciones"
   ]
  },
  {
   "cell_type": "code",
   "execution_count": 2,
   "metadata": {},
   "outputs": [
    {
     "name": "stdout",
     "output_type": "stream",
     "text": [
      "(11806137, 11)\n"
     ]
    }
   ],
   "source": [
    "a=pd.read_csv('dt_trxpse_personas_2016_2018_muestra_adjt.csv', error_bad_lines=False,warn_bad_lines=False, header= None)\n",
    "a=a.rename(columns={0:\"id_trn_ach\",1:\"id_cliente\",2:\"fecha\",\n",
    "                  3:\"hora\",4:\"valor_trx\",5:\"ref1\",6:\"ref2\",\n",
    "                  7:\"ref3\",8:\"sector\",9:\"subsector\",10:\"descripcion\",})  # asignacion de encabezados\n",
    "print (a.shape)"
   ]
  },
  {
   "cell_type": "markdown",
   "metadata": {},
   "source": [
    "#### Categorías\n",
    "\n",
    "Las categorías definidas se basan en la columna subsector, fueron definidas y mapeadas de forma manual, algunos aspectos importantes a tener en cuenta, puede haber sesgo en las clases, al tener pocos ejemplos por clase, también se encontró que aunque hay registros con el mismo subsector difieren mucho entre si basados en la descripción, aunque para tener una mejor anotación del data set se debería explorar la descripción, puede llegar a ser algo dispendioso, también puede ser un problema, tener muchas clases y no tener variables que permitan una buena discriminación de los registros."
   ]
  },
  {
   "cell_type": "markdown",
   "metadata": {},
   "source": [
    "1. Pago de Obligaciones\n",
    "2. Personal y Hogar\n",
    "3. Otros"
   ]
  },
  {
   "cell_type": "markdown",
   "metadata": {},
   "source": [
    "### Muestra del Dataset"
   ]
  },
  {
   "cell_type": "code",
   "execution_count": 4,
   "metadata": {},
   "outputs": [
    {
     "data": {
      "text/html": [
       "<div>\n",
       "<style scoped>\n",
       "    .dataframe tbody tr th:only-of-type {\n",
       "        vertical-align: middle;\n",
       "    }\n",
       "\n",
       "    .dataframe tbody tr th {\n",
       "        vertical-align: top;\n",
       "    }\n",
       "\n",
       "    .dataframe thead th {\n",
       "        text-align: right;\n",
       "    }\n",
       "</style>\n",
       "<table border=\"1\" class=\"dataframe\">\n",
       "  <thead>\n",
       "    <tr style=\"text-align: right;\">\n",
       "      <th></th>\n",
       "      <th>id_trn_ach</th>\n",
       "      <th>id_cliente</th>\n",
       "      <th>fecha</th>\n",
       "      <th>hora</th>\n",
       "      <th>valor_trx</th>\n",
       "      <th>ref1</th>\n",
       "      <th>ref2</th>\n",
       "      <th>ref3</th>\n",
       "      <th>sector</th>\n",
       "      <th>subsector</th>\n",
       "      <th>descripcion</th>\n",
       "    </tr>\n",
       "  </thead>\n",
       "  <tbody>\n",
       "    <tr>\n",
       "      <th>0</th>\n",
       "      <td>230435642</td>\n",
       "      <td>3</td>\n",
       "      <td>20161207.0</td>\n",
       "      <td>113451</td>\n",
       "      <td>2122392.51</td>\n",
       "      <td>CC</td>\n",
       "      <td>NaN</td>\n",
       "      <td>NaN</td>\n",
       "      <td>\\N</td>\n",
       "      <td>\\N</td>\n",
       "      <td>\\N</td>\n",
       "    </tr>\n",
       "    <tr>\n",
       "      <th>1</th>\n",
       "      <td>222356110</td>\n",
       "      <td>10</td>\n",
       "      <td>20161016.0</td>\n",
       "      <td>3424</td>\n",
       "      <td>148438.37</td>\n",
       "      <td>Referencia:  Contrato:  Valor:</td>\n",
       "      <td>CC</td>\n",
       "      <td>NaN</td>\n",
       "      <td>\\N</td>\n",
       "      <td>\\N</td>\n",
       "      <td>\\N</td>\n",
       "    </tr>\n",
       "    <tr>\n",
       "      <th>2</th>\n",
       "      <td>309137749</td>\n",
       "      <td>10</td>\n",
       "      <td>20180120.0</td>\n",
       "      <td>195042</td>\n",
       "      <td>94025.19</td>\n",
       "      <td>CC</td>\n",
       "      <td>NaN</td>\n",
       "      <td>NaN</td>\n",
       "      <td>\\N</td>\n",
       "      <td>\\N</td>\n",
       "      <td>\\N</td>\n",
       "    </tr>\n",
       "    <tr>\n",
       "      <th>3</th>\n",
       "      <td>324614737</td>\n",
       "      <td>10</td>\n",
       "      <td>20180326.0</td>\n",
       "      <td>192146</td>\n",
       "      <td>94430.07000000001</td>\n",
       "      <td>CC</td>\n",
       "      <td>NaN</td>\n",
       "      <td>NaN</td>\n",
       "      <td>\\N</td>\n",
       "      <td>\\N</td>\n",
       "      <td>\\N</td>\n",
       "    </tr>\n",
       "    <tr>\n",
       "      <th>4</th>\n",
       "      <td>235344690</td>\n",
       "      <td>18</td>\n",
       "      <td>20170106.0</td>\n",
       "      <td>201317</td>\n",
       "      <td>670645.5699999999</td>\n",
       "      <td>MEDICINA PREPAGADA COLSANITAS</td>\n",
       "      <td>CE</td>\n",
       "      <td>NaN</td>\n",
       "      <td>\\N</td>\n",
       "      <td>\\N</td>\n",
       "      <td>\\N</td>\n",
       "    </tr>\n",
       "    <tr>\n",
       "      <th>5</th>\n",
       "      <td>320049316</td>\n",
       "      <td>18</td>\n",
       "      <td>20180307.0</td>\n",
       "      <td>143513</td>\n",
       "      <td>706933.7</td>\n",
       "      <td>RECAUDO COLSANITAS</td>\n",
       "      <td>CC</td>\n",
       "      <td>NaN</td>\n",
       "      <td>\\N</td>\n",
       "      <td>\\N</td>\n",
       "      <td>\\N</td>\n",
       "    </tr>\n",
       "    <tr>\n",
       "      <th>6</th>\n",
       "      <td>230519178</td>\n",
       "      <td>19</td>\n",
       "      <td>20161207.0</td>\n",
       "      <td>155840</td>\n",
       "      <td>306773.79</td>\n",
       "      <td>CC</td>\n",
       "      <td>NaN</td>\n",
       "      <td>NaN</td>\n",
       "      <td>\\N</td>\n",
       "      <td>\\N</td>\n",
       "      <td>\\N</td>\n",
       "    </tr>\n",
       "    <tr>\n",
       "      <th>7</th>\n",
       "      <td>241307506</td>\n",
       "      <td>19</td>\n",
       "      <td>20170210.0</td>\n",
       "      <td>142809</td>\n",
       "      <td>701067.98</td>\n",
       "      <td>Pago de la Planilla Cesantias</td>\n",
       "      <td>CEDULA DE CIUDADANIA</td>\n",
       "      <td>NaN</td>\n",
       "      <td>SERVICIOS FINANCIEROS</td>\n",
       "      <td>OTROS SERVICIOS FINANCIEROS</td>\n",
       "      <td>Otras actividades auxiliares de las actividade...</td>\n",
       "    </tr>\n",
       "    <tr>\n",
       "      <th>8</th>\n",
       "      <td>316193109</td>\n",
       "      <td>24</td>\n",
       "      <td>20180220.0</td>\n",
       "      <td>153148</td>\n",
       "      <td>767571.01</td>\n",
       "      <td>CC</td>\n",
       "      <td>NaN</td>\n",
       "      <td>NaN</td>\n",
       "      <td>\\N</td>\n",
       "      <td>\\N</td>\n",
       "      <td>\\N</td>\n",
       "    </tr>\n",
       "    <tr>\n",
       "      <th>9</th>\n",
       "      <td>282076350</td>\n",
       "      <td>26</td>\n",
       "      <td>20170914.0</td>\n",
       "      <td>70026</td>\n",
       "      <td>100277.45</td>\n",
       "      <td>Pago de la factura # CONJUNTO RESIDENCIAL PIET...</td>\n",
       "      <td>IDC</td>\n",
       "      <td>NaN</td>\n",
       "      <td>\\N</td>\n",
       "      <td>\\N</td>\n",
       "      <td>\\N</td>\n",
       "    </tr>\n",
       "  </tbody>\n",
       "</table>\n",
       "</div>"
      ],
      "text/plain": [
       "  id_trn_ach id_cliente       fecha    hora          valor_trx  \\\n",
       "0  230435642          3  20161207.0  113451         2122392.51   \n",
       "1  222356110         10  20161016.0    3424          148438.37   \n",
       "2  309137749         10  20180120.0  195042           94025.19   \n",
       "3  324614737         10  20180326.0  192146  94430.07000000001   \n",
       "4  235344690         18  20170106.0  201317  670645.5699999999   \n",
       "5  320049316         18  20180307.0  143513           706933.7   \n",
       "6  230519178         19  20161207.0  155840          306773.79   \n",
       "7  241307506         19  20170210.0  142809          701067.98   \n",
       "8  316193109         24  20180220.0  153148          767571.01   \n",
       "9  282076350         26  20170914.0   70026          100277.45   \n",
       "\n",
       "                                                ref1                  ref2  \\\n",
       "0                                                 CC                   NaN   \n",
       "1                     Referencia:  Contrato:  Valor:                    CC   \n",
       "2                                                 CC                   NaN   \n",
       "3                                                 CC                   NaN   \n",
       "4                      MEDICINA PREPAGADA COLSANITAS                    CE   \n",
       "5                                 RECAUDO COLSANITAS                    CC   \n",
       "6                                                 CC                   NaN   \n",
       "7                      Pago de la Planilla Cesantias  CEDULA DE CIUDADANIA   \n",
       "8                                                 CC                   NaN   \n",
       "9  Pago de la factura # CONJUNTO RESIDENCIAL PIET...                   IDC   \n",
       "\n",
       "   ref3                 sector                    subsector  \\\n",
       "0   NaN                     \\N                           \\N   \n",
       "1   NaN                     \\N                           \\N   \n",
       "2   NaN                     \\N                           \\N   \n",
       "3   NaN                     \\N                           \\N   \n",
       "4   NaN                     \\N                           \\N   \n",
       "5   NaN                     \\N                           \\N   \n",
       "6   NaN                     \\N                           \\N   \n",
       "7   NaN  SERVICIOS FINANCIEROS  OTROS SERVICIOS FINANCIEROS   \n",
       "8   NaN                     \\N                           \\N   \n",
       "9   NaN                     \\N                           \\N   \n",
       "\n",
       "                                         descripcion  \n",
       "0                                                 \\N  \n",
       "1                                                 \\N  \n",
       "2                                                 \\N  \n",
       "3                                                 \\N  \n",
       "4                                                 \\N  \n",
       "5                                                 \\N  \n",
       "6                                                 \\N  \n",
       "7  Otras actividades auxiliares de las actividade...  \n",
       "8                                                 \\N  \n",
       "9                                                 \\N  "
      ]
     },
     "execution_count": 4,
     "metadata": {},
     "output_type": "execute_result"
    }
   ],
   "source": [
    "a.head(10)"
   ]
  },
  {
   "cell_type": "markdown",
   "metadata": {},
   "source": [
    "### Limpieza de registros\n",
    "Se plantea realizar un etiquetado de los registros basándose en su subsector, es por esto que se filtrara todos los registros que no tengan esta información."
   ]
  },
  {
   "cell_type": "code",
   "execution_count": 5,
   "metadata": {},
   "outputs": [],
   "source": [
    "a=a[a.subsector!='\\\\N']\n",
    "a=a[a.subsector.notna()]\n",
    "a=a.reset_index(drop=True)"
   ]
  },
  {
   "cell_type": "markdown",
   "metadata": {},
   "source": [
    "Se eliminan las columnas que ya no son necesarias"
   ]
  },
  {
   "cell_type": "code",
   "execution_count": 11,
   "metadata": {},
   "outputs": [],
   "source": [
    "del a[\"ref1\"]\n",
    "del a[\"ref2\"]\n",
    "del a[\"ref3\"]\n",
    "del a[\"sector\"]\n",
    "del a[\"descripcion\"]"
   ]
  },
  {
   "cell_type": "markdown",
   "metadata": {},
   "source": [
    "Muestra del Dataset resultante"
   ]
  },
  {
   "cell_type": "code",
   "execution_count": 12,
   "metadata": {},
   "outputs": [
    {
     "data": {
      "text/html": [
       "<div>\n",
       "<style scoped>\n",
       "    .dataframe tbody tr th:only-of-type {\n",
       "        vertical-align: middle;\n",
       "    }\n",
       "\n",
       "    .dataframe tbody tr th {\n",
       "        vertical-align: top;\n",
       "    }\n",
       "\n",
       "    .dataframe thead th {\n",
       "        text-align: right;\n",
       "    }\n",
       "</style>\n",
       "<table border=\"1\" class=\"dataframe\">\n",
       "  <thead>\n",
       "    <tr style=\"text-align: right;\">\n",
       "      <th></th>\n",
       "      <th>id_trn_ach</th>\n",
       "      <th>id_cliente</th>\n",
       "      <th>fecha</th>\n",
       "      <th>hora</th>\n",
       "      <th>valor_trx</th>\n",
       "      <th>subsector</th>\n",
       "    </tr>\n",
       "  </thead>\n",
       "  <tbody>\n",
       "    <tr>\n",
       "      <th>0</th>\n",
       "      <td>241307506</td>\n",
       "      <td>19</td>\n",
       "      <td>20170210.0</td>\n",
       "      <td>142809</td>\n",
       "      <td>701067.98</td>\n",
       "      <td>OTROS SERVICIOS FINANCIEROS</td>\n",
       "    </tr>\n",
       "    <tr>\n",
       "      <th>1</th>\n",
       "      <td>359125394</td>\n",
       "      <td>35</td>\n",
       "      <td>20180808.0</td>\n",
       "      <td>122953</td>\n",
       "      <td>246964.14</td>\n",
       "      <td>BANCOS</td>\n",
       "    </tr>\n",
       "    <tr>\n",
       "      <th>2</th>\n",
       "      <td>285847659</td>\n",
       "      <td>40</td>\n",
       "      <td>20171003.0</td>\n",
       "      <td>151703</td>\n",
       "      <td>192491.73</td>\n",
       "      <td>BANCOS</td>\n",
       "    </tr>\n",
       "    <tr>\n",
       "      <th>3</th>\n",
       "      <td>319249942</td>\n",
       "      <td>45</td>\n",
       "      <td>20180305.0</td>\n",
       "      <td>111143</td>\n",
       "      <td>49520.98</td>\n",
       "      <td>MUNICIPIOS</td>\n",
       "    </tr>\n",
       "    <tr>\n",
       "      <th>4</th>\n",
       "      <td>335337578</td>\n",
       "      <td>45</td>\n",
       "      <td>20180507.0</td>\n",
       "      <td>145248</td>\n",
       "      <td>431146.54</td>\n",
       "      <td>BANCOS</td>\n",
       "    </tr>\n",
       "  </tbody>\n",
       "</table>\n",
       "</div>"
      ],
      "text/plain": [
       "  id_trn_ach id_cliente       fecha    hora  valor_trx  \\\n",
       "0  241307506         19  20170210.0  142809  701067.98   \n",
       "1  359125394         35  20180808.0  122953  246964.14   \n",
       "2  285847659         40  20171003.0  151703  192491.73   \n",
       "3  319249942         45  20180305.0  111143   49520.98   \n",
       "4  335337578         45  20180507.0  145248  431146.54   \n",
       "\n",
       "                     subsector  \n",
       "0  OTROS SERVICIOS FINANCIEROS  \n",
       "1                       BANCOS  \n",
       "2                       BANCOS  \n",
       "3                   MUNICIPIOS  \n",
       "4                       BANCOS  "
      ]
     },
     "execution_count": 12,
     "metadata": {},
     "output_type": "execute_result"
    }
   ],
   "source": [
    "a.head()"
   ]
  },
  {
   "cell_type": "markdown",
   "metadata": {},
   "source": [
    "### Definición del diccionario subsector-etiqueta\n",
    "Este es el diccionario que mapea cada uno de los subsectores a su clase correspondiente"
   ]
  },
  {
   "cell_type": "code",
   "execution_count": 13,
   "metadata": {},
   "outputs": [],
   "source": [
    "dic={'ADMINISTRACIÓN CENTRAL':1,\n",
    "     'AGROQUIMICOS':3,\n",
    "     'ALIMENTOS CONCENTRADOS':3,\n",
    "     'ARROZ':3, \n",
    "     'ASEO':3, \n",
    "     'AUTOMOTORES':2, \n",
    "     'BANCOS':1, \n",
    "     'CAJAS DE COMPENSACIÓN':2,\n",
    "     'COMERCIO DE REPUESTOS':3,\n",
    "     'COMERCIO DE VARIEDADES Y VESTUARIO':2,\n",
    "     'COMISIONISTAS DE BOLSA':3, \n",
    "     'COMPANÍAS DE FINANCIAMIENTO COMERCIAL':1,\n",
    "     'DEPARTAMENTOS':1, \n",
    "     'DISTRIBUIDORES PRODUCTOS CONSUMO MASIVO':3,\n",
    "     'EDIFICACIONES':2, \n",
    "     'ELECTRICIDAD':2, \n",
    "     'EPS Y SALUD PREPAGADA (SALUD)':2,\n",
    "     'ESTABLECIMIENTOS EDUCATIVOS':2, \n",
    "     'FONDOS DE PENSIONES':2,\n",
    "     'IMPRENTAS Y EDICION':3, \n",
    "     'IPS':2, \n",
    "     'MADERA Y MUEBLES':2, \n",
    "     'MEDIOS':3,\n",
    "     'MUNICIPIOS':1, \n",
    "     'OBRAS DE INFRAESTRUCTURA':1,\n",
    "     'OTRAS ACTIVIDADES MINERAS':3, \n",
    "     'OTROS MANUFACTURA':3,\n",
    "     'OTROS SERVICIOS FINANCIEROS':1, \n",
    "     'PERSONAS':2, \n",
    "     'PLASTICO':3,\n",
    "     'PRODUCTOS CERAMICOS':3, \n",
    "     'PRODUCTOS METALICOS':3, \n",
    "     'SEGUROS':2,\n",
    "     'SERVICIOS A EMPRESAS':3, \n",
    "     'SERVICIOS A PERSONAS':2, \n",
    "     'TELEFONIA FIJA':2,\n",
    "     'TEXTILES':3, \n",
    "     'TRANSPORTE AEREO':2, \n",
    "     'TRANSPORTE TERRESTRE':2,\n",
    "     'VALOR AGREGADO':2}"
   ]
  },
  {
   "cell_type": "markdown",
   "metadata": {},
   "source": [
    "### Mapeo de etiquetas\n",
    "\n",
    "se agrega el campo etiqueta basandose en su subsector y se elimina el campo sub sector del registro"
   ]
  },
  {
   "cell_type": "code",
   "execution_count": 14,
   "metadata": {},
   "outputs": [],
   "source": [
    "a[\"etiqueta\"]=a.subsector.map(dic)\n",
    "del a[\"subsector\"]"
   ]
  },
  {
   "cell_type": "markdown",
   "metadata": {},
   "source": [
    "muestra"
   ]
  },
  {
   "cell_type": "code",
   "execution_count": 15,
   "metadata": {},
   "outputs": [
    {
     "data": {
      "text/html": [
       "<div>\n",
       "<style scoped>\n",
       "    .dataframe tbody tr th:only-of-type {\n",
       "        vertical-align: middle;\n",
       "    }\n",
       "\n",
       "    .dataframe tbody tr th {\n",
       "        vertical-align: top;\n",
       "    }\n",
       "\n",
       "    .dataframe thead th {\n",
       "        text-align: right;\n",
       "    }\n",
       "</style>\n",
       "<table border=\"1\" class=\"dataframe\">\n",
       "  <thead>\n",
       "    <tr style=\"text-align: right;\">\n",
       "      <th></th>\n",
       "      <th>id_trn_ach</th>\n",
       "      <th>id_cliente</th>\n",
       "      <th>fecha</th>\n",
       "      <th>hora</th>\n",
       "      <th>valor_trx</th>\n",
       "      <th>etiqueta</th>\n",
       "    </tr>\n",
       "  </thead>\n",
       "  <tbody>\n",
       "    <tr>\n",
       "      <th>0</th>\n",
       "      <td>241307506</td>\n",
       "      <td>19</td>\n",
       "      <td>20170210.0</td>\n",
       "      <td>142809</td>\n",
       "      <td>701067.98</td>\n",
       "      <td>1</td>\n",
       "    </tr>\n",
       "    <tr>\n",
       "      <th>1</th>\n",
       "      <td>359125394</td>\n",
       "      <td>35</td>\n",
       "      <td>20180808.0</td>\n",
       "      <td>122953</td>\n",
       "      <td>246964.14</td>\n",
       "      <td>1</td>\n",
       "    </tr>\n",
       "    <tr>\n",
       "      <th>2</th>\n",
       "      <td>285847659</td>\n",
       "      <td>40</td>\n",
       "      <td>20171003.0</td>\n",
       "      <td>151703</td>\n",
       "      <td>192491.73</td>\n",
       "      <td>1</td>\n",
       "    </tr>\n",
       "    <tr>\n",
       "      <th>3</th>\n",
       "      <td>319249942</td>\n",
       "      <td>45</td>\n",
       "      <td>20180305.0</td>\n",
       "      <td>111143</td>\n",
       "      <td>49520.98</td>\n",
       "      <td>1</td>\n",
       "    </tr>\n",
       "    <tr>\n",
       "      <th>4</th>\n",
       "      <td>335337578</td>\n",
       "      <td>45</td>\n",
       "      <td>20180507.0</td>\n",
       "      <td>145248</td>\n",
       "      <td>431146.54</td>\n",
       "      <td>1</td>\n",
       "    </tr>\n",
       "  </tbody>\n",
       "</table>\n",
       "</div>"
      ],
      "text/plain": [
       "  id_trn_ach id_cliente       fecha    hora  valor_trx  etiqueta\n",
       "0  241307506         19  20170210.0  142809  701067.98         1\n",
       "1  359125394         35  20180808.0  122953  246964.14         1\n",
       "2  285847659         40  20171003.0  151703  192491.73         1\n",
       "3  319249942         45  20180305.0  111143   49520.98         1\n",
       "4  335337578         45  20180507.0  145248  431146.54         1"
      ]
     },
     "execution_count": 15,
     "metadata": {},
     "output_type": "execute_result"
    }
   ],
   "source": [
    "a.head()"
   ]
  },
  {
   "cell_type": "markdown",
   "metadata": {},
   "source": [
    "muestra  registros por categoría"
   ]
  },
  {
   "cell_type": "code",
   "execution_count": 16,
   "metadata": {},
   "outputs": [
    {
     "data": {
      "text/plain": [
       "2    1748550\n",
       "1    1488462\n",
       "3      37243\n",
       "Name: etiqueta, dtype: int64"
      ]
     },
     "execution_count": 16,
     "metadata": {},
     "output_type": "execute_result"
    }
   ],
   "source": [
    "a.etiqueta.value_counts()"
   ]
  },
  {
   "cell_type": "markdown",
   "metadata": {},
   "source": [
    "Guardado del dataset"
   ]
  },
  {
   "cell_type": "code",
   "execution_count": 17,
   "metadata": {},
   "outputs": [],
   "source": [
    "a.to_csv(\"Dataset_etiquetado.csv\",index=False)"
   ]
  }
 ],
 "metadata": {
  "kernelspec": {
   "display_name": "Python 3",
   "language": "python",
   "name": "python3"
  },
  "language_info": {
   "codemirror_mode": {
    "name": "ipython",
    "version": 3
   },
   "file_extension": ".py",
   "mimetype": "text/x-python",
   "name": "python",
   "nbconvert_exporter": "python",
   "pygments_lexer": "ipython3",
   "version": "3.7.0"
  }
 },
 "nbformat": 4,
 "nbformat_minor": 2
}
